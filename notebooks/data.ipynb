{
 "cells": [
  {
   "cell_type": "code",
   "execution_count": 1,
   "metadata": {},
   "outputs": [],
   "source": [
    "URL = \"http://covidwizard.com\"\n",
    "\n",
    "import pandas as pd\n",
    "import logging\n",
    "\n",
    "from bs4 import BeautifulSoup\n",
    "from selenium import webdriver\n",
    "from time import sleep\n",
    "from tqdm import tqdm\n",
    "\n",
    "from selenium.webdriver.support.ui import Select\n",
    "from src.utils import COUNTRIES"
   ]
  },
  {
   "cell_type": "code",
   "execution_count": 2,
   "metadata": {
    "collapsed": false,
    "jupyter": {
     "outputs_hidden": false
    },
    "pycharm": {
     "name": "#%%\n"
    }
   },
   "outputs": [],
   "source": [
    "def load_html(country):\n",
    "    try:\n",
    "        op = webdriver.ChromeOptions()\n",
    "        op.add_argument('headless')\n",
    "        driver = webdriver.Chrome(options=op)\n",
    "        driver.get(URL)\n",
    "\n",
    "        selector = Select(driver.find_element_by_id(\"country\"))\n",
    "        driver.find_element_by_id('country').click()\n",
    "        selector.select_by_visible_text(country)\n",
    "\n",
    "        driver.find_element_by_id('open_table').click()\n",
    "        driver.switch_to.active_element\n",
    "        sleep(5)\n",
    "\n",
    "        table = driver.find_element_by_id(\"data_table\").get_attribute(\"innerHTML\")\n",
    "        driver.close()\n",
    "        \n",
    "        return table\n",
    "    except Exception as e:\n",
    "        logging.warning(ValueError(f\"Can't load data for {country}\"))\n",
    "        \n",
    "        \n",
    "def parse_html(table):\n",
    "    try:\n",
    "        soup = BeautifulSoup(table)\n",
    "        header = [x.text for x in soup.find_all(\"table\")[0].find(\"tr\")]\n",
    "        data = []\n",
    "        for row in soup.find_all(\"table\")[0].find_all(\"tr\")[1:]:\n",
    "            row = [x.text for x in row]\n",
    "            assert len(row) == len(header), row\n",
    "            data.append(row)\n",
    "\n",
    "        df = pd.DataFrame(data, columns=header)\n",
    "        df.Date = pd.to_datetime(df.Date)\n",
    "        df[header[1:]] = df[header[1:]].astype(float)\n",
    "        df[header[1:-3]] = df[header[1:-3]].astype(int)\n",
    "        \n",
    "        return df.set_index(\"Date\")\n",
    "        \n",
    "    except Exception as e:\n",
    "        print(e)\n",
    "        logging.warning(ValueError(f\"Can't parse data\"))"
   ]
  },
  {
   "cell_type": "code",
   "execution_count": 3,
   "metadata": {
    "collapsed": false,
    "jupyter": {
     "outputs_hidden": false
    },
    "pycharm": {
     "name": "#%%\n"
    }
   },
   "outputs": [
    {
     "name": "stderr",
     "output_type": "stream",
     "text": [
      "100%|██████████| 9/9 [01:12<00:00,  8.10s/it]\n"
     ]
    }
   ],
   "source": [
    "res = {}\n",
    "\n",
    "for country in tqdm(COUNTRIES):\n",
    "    table = load_html(country)\n",
    "    df = parse_html(table)\n",
    "    res[country] = df\n",
    "    df.to_csv(f\"data/{country}.csv\")"
   ]
  }
 ],
 "metadata": {
  "kernelspec": {
   "display_name": "code_search_kernel",
   "language": "python",
   "name": "code_search_kernel"
  },
  "language_info": {
   "codemirror_mode": {
    "name": "ipython",
    "version": 3
   },
   "file_extension": ".py",
   "mimetype": "text/x-python",
   "name": "python",
   "nbconvert_exporter": "python",
   "pygments_lexer": "ipython3",
   "version": "3.7.7"
  }
 },
 "nbformat": 4,
 "nbformat_minor": 4
}
