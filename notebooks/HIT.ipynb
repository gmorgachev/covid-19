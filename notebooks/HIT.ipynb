{
 "cells": [
  {
   "cell_type": "code",
   "execution_count": null,
   "metadata": {},
   "outputs": [],
   "source": [
    "torch.set_default_dtype(torch.float64)"
   ]
  },
  {
   "cell_type": "code",
   "execution_count": null,
   "metadata": {},
   "outputs": [],
   "source": [
    "import pandas as pd\n",
    "import numpy as np\n",
    "from matplotlib import pyplot as plt\n",
    "%matplotlib inline\n",
    "import torch\n",
    "\n",
    "# import pyro\n",
    "# from pyro.contrib.epidemiology.models import SimpleSIRModel"
   ]
  },
  {
   "cell_type": "code",
   "execution_count": null,
   "metadata": {},
   "outputs": [],
   "source": [
    "df = pd.read_csv('./Downloads/data 2/Russia.csv')"
   ]
  },
  {
   "cell_type": "code",
   "execution_count": null,
   "metadata": {},
   "outputs": [],
   "source": [
    "new_cases = torch.FloatTensor(df.loc[:, 'New Cases'].values[::-1].copy())"
   ]
  },
  {
   "cell_type": "code",
   "execution_count": null,
   "metadata": {},
   "outputs": [],
   "source": [
    "from copy import deepcopy"
   ]
  },
  {
   "cell_type": "code",
   "execution_count": null,
   "metadata": {},
   "outputs": [],
   "source": [
    "df = pd.read_csv('./Downloads/data 2/Russia.csv')\n",
    "total = df.loc[:, 'Total Cases'][::-1].values\n",
    "# model = HIT(total[:100])"
   ]
  },
  {
   "cell_type": "code",
   "execution_count": null,
   "metadata": {},
   "outputs": [],
   "source": [
    "def gamma(d1, delta, T):\n",
    "    h = T[d1 + delta - 1] - T[d1 - 1]\n",
    "    g = (T[d1 + delta] - T[d1 + delta - 1]) / h\n",
    "    return g if g >=0 else 0"
   ]
  },
  {
   "cell_type": "code",
   "execution_count": null,
   "metadata": {},
   "outputs": [],
   "source": []
  },
  {
   "cell_type": "code",
   "execution_count": null,
   "metadata": {},
   "outputs": [],
   "source": [
    "delta = 10\n",
    "D = 150\n",
    "T1 = list(total)[:D + 1]\n",
    "length = 20\n",
    "\n",
    "H = {i:0 for i in np.arange(delta+1)}\n",
    "gamma = {i:0 for i in np.arange(delta+1)}\n",
    "T = {i:0 for i in np.arange(-1, delta+1)}\n",
    "I = {0:0}"
   ]
  },
  {
   "cell_type": "code",
   "execution_count": null,
   "metadata": {},
   "outputs": [],
   "source": [
    "cases = df.loc[:, 'New Cases'].values"
   ]
  },
  {
   "cell_type": "code",
   "execution_count": null,
   "metadata": {},
   "outputs": [],
   "source": [
    "for i in range(0, D):\n",
    "    T.update({i : T[i-1] + cases[i]})\n",
    "    I[i] = gamma[i]*H[i]\n",
    "    H[i + 1] = H[i] + I[i] - cases[i]\n",
    "    c = T[i + delta] - T[i+delta-1]\n",
    "    h = T[i + delta - 1] - T[i - 1]\n",
    "    if h==0:\n",
    "        gamma.update({i:0})\n",
    "#     else:\n",
    "        "
   ]
  },
  {
   "cell_type": "code",
   "execution_count": null,
   "metadata": {},
   "outputs": [],
   "source": [
    "\n",
    "\n",
    "T_new = deepcopy(T1)\n",
    "print(T_new[-5:])\n",
    "for i in range(delta):\n",
    "    d = D + i\n",
    "    \n",
    "    g = gamma(d - delta, delta, T_new)\n",
    "    h = T_new[d - 1] - T_new[d - delta - 1]\n",
    "#     print(h, g,d, len(T_new), T_new[-1])\n",
    "    c = g*h\n",
    "    print(h, g,d, len(T_new), c)\n",
    "    T_new.append(c + T_new[-1])\n",
    "    \n",
    "#     else:"
   ]
  },
  {
   "cell_type": "code",
   "execution_count": 114,
   "metadata": {},
   "outputs": [],
   "source": [
    "# C(d) = gamma(d - \\delta) * (T(d - 1) - T(d - \\delta - 1))"
   ]
  },
  {
   "cell_type": "code",
   "execution_count": null,
   "metadata": {},
   "outputs": [],
   "source": []
  },
  {
   "cell_type": "code",
   "execution_count": 115,
   "metadata": {},
   "outputs": [
    {
     "data": {
      "text/plain": [
       "[<matplotlib.lines.Line2D at 0x7fb232bba5e0>]"
      ]
     },
     "execution_count": 115,
     "metadata": {},
     "output_type": "execute_result"
    },
    {
     "data": {
      "image/png": "[encoded data removed]",
      "text/plain": [
       "<Figure size 432x288 with 1 Axes>"
      ]
     },
     "metadata": {
      "needs_background": "light"
     },
     "output_type": "display_data"
    }
   ],
   "source": [
    "plt.plot(np.diff(T_new[D-5:d]))\n",
    "plt.plot(np.diff(T1[D-5:d]))"
   ]
  },
  {
   "cell_type": "code",
   "execution_count": null,
   "metadata": {},
   "outputs": [],
   "source": []
  },
  {
   "cell_type": "code",
   "execution_count": null,
   "metadata": {},
   "outputs": [],
   "source": []
  }
 ],
 "metadata": {
  "kernelspec": {
   "display_name": "Python 3",
   "language": "python",
   "name": "python3"
  },
  "language_info": {
   "codemirror_mode": {
    "name": "ipython",
    "version": 3
   },
   "file_extension": ".py",
   "mimetype": "text/x-python",
   "name": "python",
   "nbconvert_exporter": "python",
   "pygments_lexer": "ipython3",
   "version": "3.7.6"
  }
 },
 "nbformat": 4,
 "nbformat_minor": 4
}
