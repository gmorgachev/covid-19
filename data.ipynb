{
 "cells": [
  {
   "cell_type": "code",
   "execution_count": 1,
   "metadata": {
    "collapsed": true
   },
   "outputs": [],
   "source": [
    "URL = \"http://covidwizard.com\""
   ]
  },
  {
   "cell_type": "code",
   "execution_count": 2,
   "outputs": [],
   "source": [
    "from selenium import webdriver\n",
    "from time import sleep\n",
    "\n",
    "op = webdriver.ChromeOptions()\n",
    "op.add_argument('headless')\n",
    "driver = webdriver.Chrome(options=op)\n",
    "driver.get(URL)\n",
    "driver.find_element_by_id('open_table').click()\n",
    "driver.switch_to.active_element\n",
    "sleep(5)\n",
    "table = driver.find_element_by_id(\"data_table\").get_attribute(\"innerHTML\")\n",
    "driver.close()"
   ],
   "metadata": {
    "collapsed": false,
    "pycharm": {
     "name": "#%%\n"
    }
   }
  },
  {
   "cell_type": "code",
   "execution_count": 3,
   "outputs": [],
   "source": [
    "import pandas as pd\n",
    "from bs4 import BeautifulSoup\n",
    "\n",
    "soup = BeautifulSoup(table)\n",
    "header = [x.text for x in soup.find_all(\"table\")[0].find(\"tr\")]\n",
    "data = []\n",
    "for row in soup.find_all(\"table\")[0].find_all(\"tr\")[1:]:\n",
    "    row = [x.text for x in row]\n",
    "    assert len(row) == len(header), row\n",
    "    data.append(row)\n",
    "\n",
    "df = pd.DataFrame(data, columns=header)\n",
    "df.Date = pd.to_datetime(df.Date)\n",
    "df[header[1:]] = df[header[1:]].astype(float)\n",
    "df[header[1:-3]] = df[header[1:-3]].astype(int)\n",
    "df = df.set_index(\"Date\")"
   ],
   "metadata": {
    "collapsed": false,
    "pycharm": {
     "name": "#%%\n"
    }
   }
  },
  {
   "cell_type": "code",
   "execution_count": 4,
   "outputs": [
    {
     "data": {
      "text/plain": "            New Cases  Total Cases  Hidden Holders  Infection Rate  \\\nDate                                                                 \n2020-10-23     468498     41513606         4849459        0.114913   \n2020-10-22     443751     41045108         4744089        0.115749   \n2020-10-21     387898     40601357         4601656        0.115248   \n2020-10-20     439890     40213459         4515905        0.116398   \n2020-10-19     284957     39773569         4312713        0.113188   \n\n            Total Rate (TIR)  Transmission Risk  \nDate                                             \n2020-10-23          1.139157           0.625093  \n2020-10-22          1.149135           0.611511  \n2020-10-21          1.157486           0.593151  \n2020-10-20          1.152478           0.582098  \n2020-10-19          1.163976           0.555907  ",
      "text/html": "<div>\n<style scoped>\n    .dataframe tbody tr th:only-of-type {\n        vertical-align: middle;\n    }\n\n    .dataframe tbody tr th {\n        vertical-align: top;\n    }\n\n    .dataframe thead th {\n        text-align: right;\n    }\n</style>\n<table border=\"1\" class=\"dataframe\">\n  <thead>\n    <tr style=\"text-align: right;\">\n      <th></th>\n      <th>New Cases</th>\n      <th>Total Cases</th>\n      <th>Hidden Holders</th>\n      <th>Infection Rate</th>\n      <th>Total Rate (TIR)</th>\n      <th>Transmission Risk</th>\n    </tr>\n    <tr>\n      <th>Date</th>\n      <th></th>\n      <th></th>\n      <th></th>\n      <th></th>\n      <th></th>\n      <th></th>\n    </tr>\n  </thead>\n  <tbody>\n    <tr>\n      <th>2020-10-23</th>\n      <td>468498</td>\n      <td>41513606</td>\n      <td>4849459</td>\n      <td>0.114913</td>\n      <td>1.139157</td>\n      <td>0.625093</td>\n    </tr>\n    <tr>\n      <th>2020-10-22</th>\n      <td>443751</td>\n      <td>41045108</td>\n      <td>4744089</td>\n      <td>0.115749</td>\n      <td>1.149135</td>\n      <td>0.611511</td>\n    </tr>\n    <tr>\n      <th>2020-10-21</th>\n      <td>387898</td>\n      <td>40601357</td>\n      <td>4601656</td>\n      <td>0.115248</td>\n      <td>1.157486</td>\n      <td>0.593151</td>\n    </tr>\n    <tr>\n      <th>2020-10-20</th>\n      <td>439890</td>\n      <td>40213459</td>\n      <td>4515905</td>\n      <td>0.116398</td>\n      <td>1.152478</td>\n      <td>0.582098</td>\n    </tr>\n    <tr>\n      <th>2020-10-19</th>\n      <td>284957</td>\n      <td>39773569</td>\n      <td>4312713</td>\n      <td>0.113188</td>\n      <td>1.163976</td>\n      <td>0.555907</td>\n    </tr>\n  </tbody>\n</table>\n</div>"
     },
     "execution_count": 4,
     "metadata": {},
     "output_type": "execute_result"
    }
   ],
   "source": [
    "df.head()"
   ],
   "metadata": {
    "collapsed": false,
    "pycharm": {
     "name": "#%%\n"
    }
   }
  }
 ],
 "metadata": {
  "kernelspec": {
   "display_name": "Python 3",
   "language": "python",
   "name": "python3"
  },
  "language_info": {
   "codemirror_mode": {
    "name": "ipython",
    "version": 2
   },
   "file_extension": ".py",
   "mimetype": "text/x-python",
   "name": "python",
   "nbconvert_exporter": "python",
   "pygments_lexer": "ipython2",
   "version": "2.7.6"
  }
 },
 "nbformat": 4,
 "nbformat_minor": 0
}